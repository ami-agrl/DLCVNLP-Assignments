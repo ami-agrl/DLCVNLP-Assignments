{
  "nbformat": 4,
  "nbformat_minor": 0,
  "metadata": {
    "colab": {
      "name": "PythonAssignment2.ipynb",
      "provenance": [],
      "authorship_tag": "ABX9TyPFzUZ9L34rk8frdx7dtGgC"
    },
    "kernelspec": {
      "name": "python3",
      "display_name": "Python 3"
    }
  },
  "cells": [
    {
      "cell_type": "code",
      "metadata": {
        "id": "eHxurGcf6_kx",
        "colab_type": "code",
        "colab": {
          "base_uri": "https://localhost:8080/",
          "height": 170
        },
        "outputId": "1df75c90-41cb-49a8-f85c-f9b33b040c2d"
      },
      "source": [
        "j=2\n",
        "for i in range(1,10):\n",
        "  if(i>5):\n",
        "    print('*'*(i-j))\n",
        "    j=j+2\n",
        "  else:\n",
        "    print('*'*i)"
      ],
      "execution_count": 37,
      "outputs": [
        {
          "output_type": "stream",
          "text": [
            "*\n",
            "**\n",
            "***\n",
            "****\n",
            "*****\n",
            "****\n",
            "***\n",
            "**\n",
            "*\n"
          ],
          "name": "stdout"
        }
      ]
    },
    {
      "cell_type": "markdown",
      "metadata": {
        "id": "YbyvNLXd8ncq",
        "colab_type": "text"
      },
      "source": [
        "**Write a Python program to reverse a word after accepting the input from the user.\n",
        "Input word: ineuron\n",
        "Output: norueni**"
      ]
    },
    {
      "cell_type": "code",
      "metadata": {
        "id": "XAHQQ2Vh8jAC",
        "colab_type": "code",
        "colab": {
          "base_uri": "https://localhost:8080/",
          "height": 51
        },
        "outputId": "134e73bc-f72e-40a2-9d01-a3bc1af7788b"
      },
      "source": [
        "str = input(\"Enter a string\")\n",
        "revstr=\"\"\n",
        "\n",
        "for i in str:\n",
        "  revstr= i + revstr\n",
        "\n",
        "revstr\n",
        " "
      ],
      "execution_count": 45,
      "outputs": [
        {
          "output_type": "stream",
          "text": [
            "Enter a stringineuron\n"
          ],
          "name": "stdout"
        },
        {
          "output_type": "execute_result",
          "data": {
            "text/plain": [
              "'norueni'"
            ]
          },
          "metadata": {
            "tags": []
          },
          "execution_count": 45
        }
      ]
    }
  ]
}