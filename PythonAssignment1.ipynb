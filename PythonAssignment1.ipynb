{
  "nbformat": 4,
  "nbformat_minor": 0,
  "metadata": {
    "colab": {
      "name": "PythonAssignment1.ipynb",
      "provenance": [],
      "authorship_tag": "ABX9TyOpjRdxVjWFFGedixWG2s0c"
    },
    "kernelspec": {
      "name": "python3",
      "display_name": "Python 3"
    }
  },
  "cells": [
    {
      "cell_type": "markdown",
      "metadata": {
        "id": "XuSxBu2Ur5Yf",
        "colab_type": "text"
      },
      "source": [
        "**Write a program which will find all such numbers which are divisible by 7 but are not a multiple of 5, between 2000 and 3200 (both included). The numbers obtained should be printed in a comma-separated sequence on a single line.**\n"
      ]
    },
    {
      "cell_type": "code",
      "metadata": {
        "id": "MrMjUC0NrfQe",
        "colab_type": "code",
        "colab": {
          "base_uri": "https://localhost:8080/",
          "height": 54
        },
        "outputId": "758854c2-03a8-4d30-8cf1-aa7d03b40caa"
      },
      "source": [
        "val=[]\n",
        "for value in range(2000,3200):\n",
        "  if(value % 7 == 0 and value % 5 == 1) :\n",
        "    val.append(value)\n",
        "print(val)"
      ],
      "execution_count": 15,
      "outputs": [
        {
          "output_type": "stream",
          "text": [
            "[2016, 2051, 2086, 2121, 2156, 2191, 2226, 2261, 2296, 2331, 2366, 2401, 2436, 2471, 2506, 2541, 2576, 2611, 2646, 2681, 2716, 2751, 2786, 2821, 2856, 2891, 2926, 2961, 2996, 3031, 3066, 3101, 3136, 3171]\n"
          ],
          "name": "stdout"
        }
      ]
    },
    {
      "cell_type": "markdown",
      "metadata": {
        "id": "ZsFdhlj6xoi-",
        "colab_type": "text"
      },
      "source": [
        "**Write a Python program to accept the user's first and last name and then getting them printed in the the reverse order with a space between first name and last name.**"
      ]
    },
    {
      "cell_type": "code",
      "metadata": {
        "id": "KBxbGkvZxxdg",
        "colab_type": "code",
        "colab": {
          "base_uri": "https://localhost:8080/",
          "height": 51
        },
        "outputId": "1d3decbb-37b3-4fb4-a24b-fb64e7c76641"
      },
      "source": [
        "name = input(\"Please enter your first name and last name.\")\n",
        "name = name.split(' ')\n",
        "print(name[1]+' '+name[0])"
      ],
      "execution_count": 33,
      "outputs": [
        {
          "output_type": "stream",
          "text": [
            "Please enter your first name and last name.Amit Agarwal\n",
            "Agarwal Amit\n"
          ],
          "name": "stdout"
        }
      ]
    },
    {
      "cell_type": "markdown",
      "metadata": {
        "id": "N0JNw_LT2V1S",
        "colab_type": "text"
      },
      "source": [
        "**Write a Python program to find the volume of a sphere with diameter 12 cm.**"
      ]
    },
    {
      "cell_type": "code",
      "metadata": {
        "id": "1UIALLTr2Yr6",
        "colab_type": "code",
        "colab": {
          "base_uri": "https://localhost:8080/",
          "height": 34
        },
        "outputId": "26179677-15ed-4315-f5f5-5158dd080ce4"
      },
      "source": [
        "diameter = 12\n",
        "\n",
        "PI = 3.14\n",
        "\n",
        "radius = diameter/2\n",
        "\n",
        "Volume = (4 / 3) * PI * radius**3\n",
        "\n",
        "print('Volume of Sphere is : '+ str(Volume))\n"
      ],
      "execution_count": 32,
      "outputs": [
        {
          "output_type": "stream",
          "text": [
            "Volume of Sphere is : 904.3199999999999\n"
          ],
          "name": "stdout"
        }
      ]
    }
  ]
}